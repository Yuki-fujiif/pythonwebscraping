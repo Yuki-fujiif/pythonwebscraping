{
  "nbformat": 4,
  "nbformat_minor": 0,
  "metadata": {
    "colab": {
      "provenance": [],
      "mount_file_id": "1Z2BHfGiIMm5PXyeRJaf9nkEJ30-zi95w",
      "authorship_tag": "ABX9TyPUeDohW8yAsrFor+fxgGr2",
      "include_colab_link": true
    },
    "kernelspec": {
      "name": "python3",
      "display_name": "Python 3"
    },
    "language_info": {
      "name": "python"
    }
  },
  "cells": [
    {
      "cell_type": "markdown",
      "metadata": {
        "id": "view-in-github",
        "colab_type": "text"
      },
      "source": [
        "<a href=\"https://colab.research.google.com/github/Yuki-fujiif/pythonwebscraping/blob/main/20230607WEBscraping0_1.ipynb\" target=\"_parent\"><img src=\"https://colab.research.google.com/assets/colab-badge.svg\" alt=\"Open In Colab\"/></a>"
      ]
    },
    {
      "cell_type": "code",
      "source": [
        "# 認証のためのコード\n",
        "from google.colab import auth\n",
        "auth.authenticate_user()\n",
        "import gspread\n",
        "from google.auth import default\n",
        "creds, _ = default()\n",
        "gc = gspread.authorize(creds)\n",
        "\n",
        "# 使用ライブラリ\n",
        "import difflib\n",
        "import requests \n",
        "from bs4 import BeautifulSoup\n",
        "import os\n",
        "from datetime import datetime\n",
        "import pytz\n",
        "\n",
        "\n",
        "# スプレッドシートを開く\n",
        "spreadsheet = gc.open(\"test sheet01\") # スプレットシートのファイル名を入力\n",
        "worksheet1 = spreadsheet.get_worksheet(0)  # Sheet1\n",
        "\n",
        "col = 2  # B列\n",
        "\n",
        "# ワークシート1の列Bを順番に処理\n",
        "for row in range(2, worksheet1.row_count + 1):\n",
        "\n",
        "    url = worksheet1.cell(row, col).value  # スプレットシートのURLを取得\n",
        "\n",
        "    if not url:  # URLがなければループを抜ける\n",
        "        break\n",
        "\n",
        "    # 前回のシートと現在のシートを取得または作成\n",
        "    last_sheet_title = f\"LastSheet{row}\"\n",
        "    curr_sheet_title = f\"CurrSheet{row}\"\n",
        "\n",
        "    last_sheet = None\n",
        "    curr_sheet = None\n",
        "    for sheet in spreadsheet.worksheets():\n",
        "        if sheet.title == last_sheet_title:\n",
        "            last_sheet = sheet\n",
        "        elif sheet.title == curr_sheet_title:\n",
        "            curr_sheet = sheet\n",
        "\n",
        "    if last_sheet is None:\n",
        "        last_sheet = spreadsheet.add_worksheet(title=last_sheet_title, rows=\"100\", cols=\"20\")\n",
        "    if curr_sheet is None:\n",
        "        curr_sheet = spreadsheet.add_worksheet(title=curr_sheet_title, rows=\"100\", cols=\"20\")\n",
        "\n",
        "    # 現在の日付を取得\n",
        "    current_date = datetime.now(pytz.timezone('Asia/Tokyo')).strftime('%Y-%m-%d')\n",
        "\n",
        "    #ページのHMTLを取得。できなかった場合、エラー処理をする。\n",
        "    try:\n",
        "        response = requests.get(url)\n",
        "    except requests.exceptions.ConnectionError:\n",
        "            worksheet1.update_cell(row, col + 1, f\"URLが見つかりませんでした。\")\n",
        "            continue\n",
        "\n",
        "    soup = BeautifulSoup(response.content, 'html.parser', from_encoding='utf-8')  # 取得したHTMLを解析\n",
        "\n",
        "    try:\n",
        "        curr_sheet.update_cell(1,1, (soup.get_text()))  # 差分比較用に現在のシートに書き込む\n",
        "    except gspread.exceptions.APIError as e:  # 書き込みエラーを捕捉\n",
        "        worksheet1.update_cell(row, col + 1, f\"エラー: {e}\")\n",
        "        continue\n",
        "\n",
        "    # 前回のシートと現在のシートを比較\n",
        "    last_sheet_values = last_sheet.get_all_values()\n",
        "    curr_sheet_values = curr_sheet.get_all_values()\n",
        "\n",
        "    diff = difflib.unified_diff(['\\t'.join(row) for row in last_sheet_values], ['\\t'.join(row) for row in curr_sheet_values]) \n",
        "    diff_list = list(diff)\n",
        "\n",
        "    if len(diff_list) > 0:\n",
        "        worksheet1.update_cell(row, col + 1, f\"{current_date} 更新があります。\") # 変更があった場合、変更日付付きの通知をマークする\n",
        "\n",
        "    # 現在のシートの内容を前回のシートにコピー\n",
        "    last_sheet.clear() \n",
        "    for i, row in enumerate(curr_sheet_values):\n",
        "        last_sheet.insert_row(row, i+1)\n"
      ],
      "metadata": {
        "id": "X0XLzFOruesz"
      },
      "execution_count": null,
      "outputs": []
    },
    {
      "cell_type": "markdown",
      "source": [
        "#------------------------------------------------------------------"
      ],
      "metadata": {
        "id": "_pQ2Bny565Lq"
      }
    },
    {
      "cell_type": "code",
      "source": [
        "# 認証のためのコード\n",
        "from google.colab import auth\n",
        "auth.authenticate_user()\n",
        "import gspread\n",
        "from google.auth import default\n",
        "creds, _ = default()\n",
        "gc = gspread.authorize(creds)\n",
        "\n",
        "#使用ライブラリ\n",
        "import difflib\n",
        "import requests \n",
        "from bs4 import BeautifulSoup\n",
        "import os\n",
        "from datetime import datetime\n",
        "\n",
        "# 現在の日付を取得します\n",
        "current_date = datetime.now().strftime('%Y-%m-%d')\n",
        "\n",
        "##スプレッドシートを開き、巡回先URLリストの先頭のURLにアクセスする①\n",
        "\n",
        "spreadsheet = gc.open(\"test sheet01\") #スプレットシートのファイル名を入力\n",
        "\n",
        "worksheet1 = spreadsheet.get_worksheet(0)  # Sheet1\n",
        "worksheet2 = spreadsheet.get_worksheet(1)  # Sheet2前回更新時データ\n",
        "worksheet3 = spreadsheet.get_worksheet(2)  # Sheet3現在時刻データ\n",
        "\n",
        "row = 3\n",
        "col = 2  # B列\n",
        "\n",
        "url = worksheet1.cell(row, col).value #スプレットシートB.3のURLを取得\n",
        "response = requests.get(url) #ページのHTMLを取得する②\n",
        "soup = BeautifulSoup(response.content, 'html.parser', from_encoding='utf-8') #取得したHTMLを解析する③\n",
        "\n",
        "\n",
        "worksheet3.update_cell(1,1, (soup.get_text())) #差分比較用にシート3に書き込む。\n",
        "\n",
        "sheet2_values = worksheet2.get_all_values()\n",
        "sheet3_values = worksheet3.get_all_values()\n",
        "\n",
        "diff = difflib.unified_diff(['\\t'.join(row) for row in sheet2_values], ['\\t'.join(row) for row in sheet3_values]) #シート2 シート3の差分を検出\n",
        "diff_list = list(diff)\n",
        "\n",
        "if len(diff_list) > 0:\n",
        "  worksheet1.update_cell(row, col + 1, f\"{current_date} 更新があります。\") #変更があった場合、変更日付付きの通知をマークする\n",
        "\n",
        "  worksheet2.clear() #シート2の内容を消去する\n",
        "  for i, row in enumerate(sheet3_values):\n",
        "        worksheet2.insert_row(row, i+1) #シート3の全ての行をシート2にコピー\n"
      ],
      "metadata": {
        "id": "OjtU8txHwAik"
      },
      "execution_count": null,
      "outputs": []
    },
    {
      "cell_type": "code",
      "source": [
        "##使用ライブラリメモ\n",
        "#import requests \n",
        "#from bs4 import BeautifulSoup\n",
        "#import os\n",
        "#from datetime import datetime\n",
        "#import difflib\n",
        "#import pytz"
      ],
      "metadata": {
        "id": "b9P6C2Au5uQk"
      },
      "execution_count": null,
      "outputs": []
    }
  ]
}